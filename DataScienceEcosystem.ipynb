{
 "cells": [
  {
   "cell_type": "markdown",
   "id": "d6f1fed1-e574-4365-bd16-034a7a0e75b2",
   "metadata": {},
   "source": [
    "# Data Science Tools and Ecosystem"
   ]
  },
  {
   "cell_type": "markdown",
   "id": "8db1ff71-b775-4bbf-baac-3b089cde388c",
   "metadata": {},
   "source": [
    "in this notebook, Data Science Tools and Ecosystem are summarized"
   ]
  },
  {
   "cell_type": "markdown",
   "id": "4c2cf564-5b19-411f-9a0a-66c89b204e0e",
   "metadata": {},
   "source": [
    "**Objectives**\n",
    "+ Naming some of the popular languages in Data Science.\n",
    "+ Naming some of the commonly used libraries in Data Science.\n",
    "+ Naming some of Data Science Tools.\n",
    "+ Creating Examples of arithmetics expressions in Python."
   ]
  },
  {
   "cell_type": "markdown",
   "id": "d6d8a218-bf84-4e35-ae67-02493c4ace6b",
   "metadata": {},
   "source": [
    "Some of the popular languages that Data Scientists use are:\n",
    "1. Python\n",
    "2. R\n",
    "3. SQL"
   ]
  },
  {
   "cell_type": "markdown",
   "id": "baddf897-8e72-49fe-bb4b-b1cef66aa67c",
   "metadata": {},
   "source": [
    "Some of the commonly used libraries used by Data Scientists include: \n",
    "\n",
    "1. Pandas \n",
    "2. Numpy\n",
    "3. Matplotlib\n",
    "4. ggplot\n",
    "5. caret"
   ]
  },
  {
   "cell_type": "markdown",
   "id": "e17f975c-76aa-42dc-bb62-c971b8786ccf",
   "metadata": {},
   "source": [
    "|Data Science Tools|\n",
    "|-------------------|\n",
    "| Jupyter Notebook |\n",
    "| Rstudio |\n",
    "| GitHub |\n"
   ]
  },
  {
   "cell_type": "markdown",
   "id": "b1ef7cea-fce7-4ccb-a7ac-6ed7829b06e4",
   "metadata": {},
   "source": [
    "### Below are a few examples of evaluating arithmetics expressions in Python:\n"
   ]
  },
  {
   "cell_type": "code",
   "execution_count": 1,
   "id": "0b774be3-a8ff-49f0-a846-ca9080347b3b",
   "metadata": {},
   "outputs": [
    {
     "name": "stdout",
     "output_type": "stream",
     "text": [
      "17\n"
     ]
    }
   ],
   "source": [
    "# This is a simple arithmetics expresssion to multiply then add integers \n",
    "y=(3*4)+5\n",
    "print(y)"
   ]
  },
  {
   "cell_type": "code",
   "execution_count": 2,
   "id": "c4a24786-3859-4da0-9717-9415ecf59f90",
   "metadata": {},
   "outputs": [
    {
     "name": "stdout",
     "output_type": "stream",
     "text": [
      "3.3333333333333335\n"
     ]
    }
   ],
   "source": [
    "# This will convert 200 minutes to hours by dividing by 60\n",
    "x= 200/60\n",
    "print(x)"
   ]
  },
  {
   "cell_type": "markdown",
   "id": "b38f53c2-ea9d-4dfc-9fc0-a602074d1c75",
   "metadata": {},
   "source": [
    "## Author\n",
    "Khalid Hisham"
   ]
  },
  {
   "cell_type": "code",
   "execution_count": null,
   "id": "25d78f97-7723-4631-8806-e5cf53b66781",
   "metadata": {},
   "outputs": [],
   "source": []
  }
 ],
 "metadata": {
  "kernelspec": {
   "display_name": "Python 3 (ipykernel)",
   "language": "python",
   "name": "python3"
  },
  "language_info": {
   "codemirror_mode": {
    "name": "ipython",
    "version": 3
   },
   "file_extension": ".py",
   "mimetype": "text/x-python",
   "name": "python",
   "nbconvert_exporter": "python",
   "pygments_lexer": "ipython3",
   "version": "3.11.4"
  }
 },
 "nbformat": 4,
 "nbformat_minor": 5
}
